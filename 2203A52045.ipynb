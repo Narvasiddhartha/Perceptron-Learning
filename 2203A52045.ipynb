{
  "nbformat": 4,
  "nbformat_minor": 0,
  "metadata": {
    "colab": {
      "provenance": []
    },
    "kernelspec": {
      "name": "python3",
      "display_name": "Python 3"
    },
    "language_info": {
      "name": "python"
    }
  },
  "cells": [
    {
      "cell_type": "code",
      "execution_count": 46,
      "metadata": {
        "colab": {
          "base_uri": "https://localhost:8080/"
        },
        "id": "4esA7jMecCUi",
        "outputId": "61250bee-9f5c-4e07-a5d2-5f4c42934aa8"
      },
      "outputs": [
        {
          "output_type": "stream",
          "name": "stdout",
          "text": [
            "      battery_power  blue  clock_speed  dual_sim  fc  four_g  int_memory  \\\n",
            "0               842     0          2.2         0   1       0           7   \n",
            "1              1021     1          0.5         1   0       1          53   \n",
            "2               563     1          0.5         1   2       1          41   \n",
            "3               615     1          2.5         0   0       0          10   \n",
            "4              1821     1          1.2         0  13       1          44   \n",
            "...             ...   ...          ...       ...  ..     ...         ...   \n",
            "1995            794     1          0.5         1   0       1           2   \n",
            "1996           1965     1          2.6         1   0       0          39   \n",
            "1997           1911     0          0.9         1   1       1          36   \n",
            "1998           1512     0          0.9         0   4       1          46   \n",
            "1999            510     1          2.0         1   5       1          45   \n",
            "\n",
            "      m_dep  mobile_wt  n_cores  ...  px_height  px_width   ram  sc_h  sc_w  \\\n",
            "0       0.6        188        2  ...         20       756  2549     9     7   \n",
            "1       0.7        136        3  ...        905      1988  2631    17     3   \n",
            "2       0.9        145        5  ...       1263      1716  2603    11     2   \n",
            "3       0.8        131        6  ...       1216      1786  2769    16     8   \n",
            "4       0.6        141        2  ...       1208      1212  1411     8     2   \n",
            "...     ...        ...      ...  ...        ...       ...   ...   ...   ...   \n",
            "1995    0.8        106        6  ...       1222      1890   668    13     4   \n",
            "1996    0.2        187        4  ...        915      1965  2032    11    10   \n",
            "1997    0.7        108        8  ...        868      1632  3057     9     1   \n",
            "1998    0.1        145        5  ...        336       670   869    18    10   \n",
            "1999    0.9        168        6  ...        483       754  3919    19     4   \n",
            "\n",
            "      talk_time  three_g  touch_screen  wifi  price_range  \n",
            "0            19        0             0     1            1  \n",
            "1             7        1             1     0            2  \n",
            "2             9        1             1     0            2  \n",
            "3            11        1             0     0            2  \n",
            "4            15        1             1     0            1  \n",
            "...         ...      ...           ...   ...          ...  \n",
            "1995         19        1             1     0            0  \n",
            "1996         16        1             1     1            2  \n",
            "1997          5        1             1     0            3  \n",
            "1998         19        1             1     1            0  \n",
            "1999          2        1             1     1            3  \n",
            "\n",
            "[2000 rows x 21 columns]\n"
          ]
        }
      ],
      "source": [
        "import pandas as pd\n",
        "a=pd.read_csv('/content/train.csv')\n",
        "print(a)"
      ]
    },
    {
      "cell_type": "code",
      "source": [
        "X=a.drop(columns=['price_range'])\n",
        "Y=a[['price_range']]\n",
        "print(X)\n",
        "print(Y)"
      ],
      "metadata": {
        "colab": {
          "base_uri": "https://localhost:8080/"
        },
        "id": "ePGIADLyfLzA",
        "outputId": "940168f0-9132-4fed-b0d4-3c2302e9c5d8"
      },
      "execution_count": 47,
      "outputs": [
        {
          "output_type": "stream",
          "name": "stdout",
          "text": [
            "      battery_power  blue  clock_speed  dual_sim  fc  four_g  int_memory  \\\n",
            "0               842     0          2.2         0   1       0           7   \n",
            "1              1021     1          0.5         1   0       1          53   \n",
            "2               563     1          0.5         1   2       1          41   \n",
            "3               615     1          2.5         0   0       0          10   \n",
            "4              1821     1          1.2         0  13       1          44   \n",
            "...             ...   ...          ...       ...  ..     ...         ...   \n",
            "1995            794     1          0.5         1   0       1           2   \n",
            "1996           1965     1          2.6         1   0       0          39   \n",
            "1997           1911     0          0.9         1   1       1          36   \n",
            "1998           1512     0          0.9         0   4       1          46   \n",
            "1999            510     1          2.0         1   5       1          45   \n",
            "\n",
            "      m_dep  mobile_wt  n_cores  pc  px_height  px_width   ram  sc_h  sc_w  \\\n",
            "0       0.6        188        2   2         20       756  2549     9     7   \n",
            "1       0.7        136        3   6        905      1988  2631    17     3   \n",
            "2       0.9        145        5   6       1263      1716  2603    11     2   \n",
            "3       0.8        131        6   9       1216      1786  2769    16     8   \n",
            "4       0.6        141        2  14       1208      1212  1411     8     2   \n",
            "...     ...        ...      ...  ..        ...       ...   ...   ...   ...   \n",
            "1995    0.8        106        6  14       1222      1890   668    13     4   \n",
            "1996    0.2        187        4   3        915      1965  2032    11    10   \n",
            "1997    0.7        108        8   3        868      1632  3057     9     1   \n",
            "1998    0.1        145        5   5        336       670   869    18    10   \n",
            "1999    0.9        168        6  16        483       754  3919    19     4   \n",
            "\n",
            "      talk_time  three_g  touch_screen  wifi  \n",
            "0            19        0             0     1  \n",
            "1             7        1             1     0  \n",
            "2             9        1             1     0  \n",
            "3            11        1             0     0  \n",
            "4            15        1             1     0  \n",
            "...         ...      ...           ...   ...  \n",
            "1995         19        1             1     0  \n",
            "1996         16        1             1     1  \n",
            "1997          5        1             1     0  \n",
            "1998         19        1             1     1  \n",
            "1999          2        1             1     1  \n",
            "\n",
            "[2000 rows x 20 columns]\n",
            "      price_range\n",
            "0               1\n",
            "1               2\n",
            "2               2\n",
            "3               2\n",
            "4               1\n",
            "...           ...\n",
            "1995            0\n",
            "1996            2\n",
            "1997            3\n",
            "1998            0\n",
            "1999            3\n",
            "\n",
            "[2000 rows x 1 columns]\n"
          ]
        }
      ]
    },
    {
      "cell_type": "code",
      "source": [
        "from sklearn.preprocessing import MinMaxScaler\n",
        "scaler = MinMaxScaler(feature_range = (0,1))\n",
        "X_norm=scaler.fit_transform(X)\n",
        "print(X_norm)"
      ],
      "metadata": {
        "colab": {
          "base_uri": "https://localhost:8080/"
        },
        "id": "rbFKEOWEgVHu",
        "outputId": "c27912b5-7a30-4ef9-8c74-22970034f06d"
      },
      "execution_count": 48,
      "outputs": [
        {
          "output_type": "stream",
          "name": "stdout",
          "text": [
            "[[0.22778891 0.         0.68       ... 0.         0.         1.        ]\n",
            " [0.34736139 1.         0.         ... 1.         1.         0.        ]\n",
            " [0.04141617 1.         0.         ... 1.         1.         0.        ]\n",
            " ...\n",
            " [0.94188377 0.         0.16       ... 1.         1.         0.        ]\n",
            " [0.6753507  0.         0.16       ... 1.         1.         1.        ]\n",
            " [0.00601202 1.         0.6        ... 1.         1.         1.        ]]\n"
          ]
        }
      ]
    },
    {
      "cell_type": "code",
      "source": [
        "from sklearn.model_selection import train_test_split\n",
        "X_train,Y_train,X_test,Y_test=train_test_split(X,Y,test_size=0.30)\n",
        "print(X_train.shape)\n",
        "print(\"Training Data:\",X_train)\n",
        "print(Y_train.shape)\n",
        "print(Y_train)\n",
        "print(X_test.shape)\n",
        "print(\"Testing Data:\",X_test)\n",
        "print(Y_test.shape)\n",
        "print(Y_test)"
      ],
      "metadata": {
        "colab": {
          "base_uri": "https://localhost:8080/"
        },
        "id": "EZk4Jadrhvb_",
        "outputId": "c7fdada8-e9f3-4d46-eef5-c0a43a2c2301"
      },
      "execution_count": 49,
      "outputs": [
        {
          "output_type": "stream",
          "name": "stdout",
          "text": [
            "(1400, 20)\n",
            "Training Data:       battery_power  blue  clock_speed  dual_sim  fc  four_g  int_memory  \\\n",
            "135            1213     1          0.5         0   0       0          16   \n",
            "315            1126     0          0.7         0   3       0          49   \n",
            "1192           1030     1          0.5         0   4       1          37   \n",
            "666             890     1          2.2         1   4       0          44   \n",
            "1477           1150     1          2.7         0   0       0          39   \n",
            "...             ...   ...          ...       ...  ..     ...         ...   \n",
            "1238           1597     1          0.9         0   4       1           4   \n",
            "178             947     0          0.8         1   0       1          22   \n",
            "573            1900     1          0.5         1   0       1          55   \n",
            "1299            871     0          0.6         0   2       0          52   \n",
            "749             802     1          2.4         1   1       0          45   \n",
            "\n",
            "      m_dep  mobile_wt  n_cores  pc  px_height  px_width   ram  sc_h  sc_w  \\\n",
            "135     0.5        108        5   0        226      1248  2700    12     3   \n",
            "315     0.9        165        8  17        114      1726  3739    14     1   \n",
            "1192    0.7        147        1   8        503       551  2800     8     6   \n",
            "666     0.5        198        8  13       1074      1873   751     7     3   \n",
            "1477    0.4        151        8   1        397       800   999     6     2   \n",
            "...     ...        ...      ...  ..        ...       ...   ...   ...   ...   \n",
            "1238    0.5         85        1  19        880      1145  2130     8     3   \n",
            "178     0.1        197        2  13       1176      1220  2842    16    12   \n",
            "573     0.9        171        1   1        934      1241  3917    15     5   \n",
            "1299    0.1        178        3   3        194      1437   437    14     7   \n",
            "749     0.8        157        3   9       1299      1633  3713     8     3   \n",
            "\n",
            "      talk_time  three_g  touch_screen  wifi  \n",
            "135           9        0             0     1  \n",
            "315          13        1             0     0  \n",
            "1192         12        1             0     1  \n",
            "666           3        0             0     0  \n",
            "1477         11        1             1     0  \n",
            "...         ...      ...           ...   ...  \n",
            "1238         15        1             1     0  \n",
            "178           2        1             0     0  \n",
            "573          18        1             0     1  \n",
            "1299         17        1             0     0  \n",
            "749           8        0             0     0  \n",
            "\n",
            "[1400 rows x 20 columns]\n",
            "(600, 20)\n",
            "      battery_power  blue  clock_speed  dual_sim  fc  four_g  int_memory  \\\n",
            "1330           1766     1          1.3         0   1       0          29   \n",
            "1831            623     1          0.8         0   6       1          26   \n",
            "1190           1092     1          0.5         1  10       0          11   \n",
            "1945           1007     1          2.9         1   5       1          21   \n",
            "430            1887     1          3.0         1   6       1          17   \n",
            "...             ...   ...          ...       ...  ..     ...         ...   \n",
            "243            1918     0          1.9         0   2       0          10   \n",
            "1671           1146     0          3.0         0   5       1          57   \n",
            "744            1782     1          2.8         1   6       1          58   \n",
            "1913           1969     0          1.2         1   9       0          63   \n",
            "417             651     1          0.8         1   2       1          63   \n",
            "\n",
            "      m_dep  mobile_wt  n_cores  pc  px_height  px_width   ram  sc_h  sc_w  \\\n",
            "1330    0.5        194        8  20        439      1306  2316    19     2   \n",
            "1831    0.3        197        7  12        484      1238  1769    10     1   \n",
            "1190    0.5        167        3  14        468       571   737    14     4   \n",
            "1945    0.8        185        8  12        479       831  1301     8     6   \n",
            "430     0.2        126        8   7       1172      1798  3348    18    16   \n",
            "...     ...        ...      ...  ..        ...       ...   ...   ...   ...   \n",
            "243     0.6        110        5  10       1170      1543  1717     7     1   \n",
            "1671    0.4        111        5  10         73       583   291    19     9   \n",
            "744     0.8        157        1  13        867       999  2405    15     0   \n",
            "1913    0.2        132        4  11        390       756   298    10     1   \n",
            "417     0.2        176        5   4        548       858  2244    14     9   \n",
            "\n",
            "      talk_time  three_g  touch_screen  wifi  \n",
            "1330          6        0             0     1  \n",
            "1831         16        1             0     0  \n",
            "1190         11        0             1     0  \n",
            "1945         12        1             1     0  \n",
            "430          16        1             1     0  \n",
            "...         ...      ...           ...   ...  \n",
            "243          16        1             1     1  \n",
            "1671         11        1             1     1  \n",
            "744          16        1             0     1  \n",
            "1913         10        1             1     0  \n",
            "417          19        1             1     0  \n",
            "\n",
            "[600 rows x 20 columns]\n",
            "(1400, 1)\n",
            "Testing Data:       price_range\n",
            "135             2\n",
            "315             3\n",
            "1192            2\n",
            "666             0\n",
            "1477            0\n",
            "...           ...\n",
            "1238            2\n",
            "178             2\n",
            "573             3\n",
            "1299            0\n",
            "749             3\n",
            "\n",
            "[1400 rows x 1 columns]\n",
            "(600, 1)\n",
            "      price_range\n",
            "1330            2\n",
            "1831            1\n",
            "1190            0\n",
            "1945            0\n",
            "430             3\n",
            "...           ...\n",
            "243             2\n",
            "1671            0\n",
            "744             2\n",
            "1913            0\n",
            "417             1\n",
            "\n",
            "[600 rows x 1 columns]\n"
          ]
        }
      ]
    },
    {
      "cell_type": "code",
      "source": [
        "import pandas as pd\n",
        "data=pd.read_csv('/content/heart.csv')\n",
        "print(data)\n"
      ],
      "metadata": {
        "colab": {
          "base_uri": "https://localhost:8080/"
        },
        "id": "mm-evtQ1lOMM",
        "outputId": "fbc56eed-2266-41f7-d7c8-8b9d01378fc4"
      },
      "execution_count": 50,
      "outputs": [
        {
          "output_type": "stream",
          "name": "stdout",
          "text": [
            "     age  sex  cp  trestbps  chol  fbs  restecg  thalach  exang  oldpeak  \\\n",
            "0     63    1   3       145   233    1        0      150      0      2.3   \n",
            "1     37    1   2       130   250    0        1      187      0      3.5   \n",
            "2     41    0   1       130   204    0        0      172      0      1.4   \n",
            "3     56    1   1       120   236    0        1      178      0      0.8   \n",
            "4     57    0   0       120   354    0        1      163      1      0.6   \n",
            "..   ...  ...  ..       ...   ...  ...      ...      ...    ...      ...   \n",
            "298   57    0   0       140   241    0        1      123      1      0.2   \n",
            "299   45    1   3       110   264    0        1      132      0      1.2   \n",
            "300   68    1   0       144   193    1        1      141      0      3.4   \n",
            "301   57    1   0       130   131    0        1      115      1      1.2   \n",
            "302   57    0   1       130   236    0        0      174      0      0.0   \n",
            "\n",
            "     slope  ca  thal  target  \n",
            "0        0   0     1       1  \n",
            "1        0   0     2       1  \n",
            "2        2   0     2       1  \n",
            "3        2   0     2       1  \n",
            "4        2   0     2       1  \n",
            "..     ...  ..   ...     ...  \n",
            "298      1   0     3       0  \n",
            "299      1   0     3       0  \n",
            "300      1   2     3       0  \n",
            "301      1   1     3       0  \n",
            "302      1   1     2       0  \n",
            "\n",
            "[303 rows x 14 columns]\n"
          ]
        }
      ]
    },
    {
      "cell_type": "code",
      "source": [
        "'''X1=a.drop(columns=['target'])\n",
        "Y1=a[['target']]\n",
        "print(X1)\n",
        "print(Y1)'''\n",
        "\n",
        "\n",
        "Y=data.drop(columns=[\"target\"],axis=1)\n",
        "Y=data[\"target\"]\n",
        "print(X)\n"
      ],
      "metadata": {
        "colab": {
          "base_uri": "https://localhost:8080/"
        },
        "id": "5Rywb1zjn-Ek",
        "outputId": "901636bd-d39d-40b9-f5c6-4ea26383dd38"
      },
      "execution_count": 51,
      "outputs": [
        {
          "output_type": "stream",
          "name": "stdout",
          "text": [
            "      battery_power  blue  clock_speed  dual_sim  fc  four_g  int_memory  \\\n",
            "0               842     0          2.2         0   1       0           7   \n",
            "1              1021     1          0.5         1   0       1          53   \n",
            "2               563     1          0.5         1   2       1          41   \n",
            "3               615     1          2.5         0   0       0          10   \n",
            "4              1821     1          1.2         0  13       1          44   \n",
            "...             ...   ...          ...       ...  ..     ...         ...   \n",
            "1995            794     1          0.5         1   0       1           2   \n",
            "1996           1965     1          2.6         1   0       0          39   \n",
            "1997           1911     0          0.9         1   1       1          36   \n",
            "1998           1512     0          0.9         0   4       1          46   \n",
            "1999            510     1          2.0         1   5       1          45   \n",
            "\n",
            "      m_dep  mobile_wt  n_cores  pc  px_height  px_width   ram  sc_h  sc_w  \\\n",
            "0       0.6        188        2   2         20       756  2549     9     7   \n",
            "1       0.7        136        3   6        905      1988  2631    17     3   \n",
            "2       0.9        145        5   6       1263      1716  2603    11     2   \n",
            "3       0.8        131        6   9       1216      1786  2769    16     8   \n",
            "4       0.6        141        2  14       1208      1212  1411     8     2   \n",
            "...     ...        ...      ...  ..        ...       ...   ...   ...   ...   \n",
            "1995    0.8        106        6  14       1222      1890   668    13     4   \n",
            "1996    0.2        187        4   3        915      1965  2032    11    10   \n",
            "1997    0.7        108        8   3        868      1632  3057     9     1   \n",
            "1998    0.1        145        5   5        336       670   869    18    10   \n",
            "1999    0.9        168        6  16        483       754  3919    19     4   \n",
            "\n",
            "      talk_time  three_g  touch_screen  wifi  \n",
            "0            19        0             0     1  \n",
            "1             7        1             1     0  \n",
            "2             9        1             1     0  \n",
            "3            11        1             0     0  \n",
            "4            15        1             1     0  \n",
            "...         ...      ...           ...   ...  \n",
            "1995         19        1             1     0  \n",
            "1996         16        1             1     1  \n",
            "1997          5        1             1     0  \n",
            "1998         19        1             1     1  \n",
            "1999          2        1             1     1  \n",
            "\n",
            "[2000 rows x 20 columns]\n"
          ]
        }
      ]
    },
    {
      "cell_type": "code",
      "source": [
        "print(Y)\n",
        "\n",
        "'''from sklearn.preprocessing import MinMaxScaler\n",
        "scaler = MinMaxScaler(feature_range = (0,1))\n",
        "X1_norm=scaler.fit_transform(X1)\n",
        "print(X1_norm)'''\n"
      ],
      "metadata": {
        "colab": {
          "base_uri": "https://localhost:8080/",
          "height": 261
        },
        "id": "Oh-jn2N5tZih",
        "outputId": "5ec430ec-c790-4ab1-fb2a-5e95695c39a0"
      },
      "execution_count": 52,
      "outputs": [
        {
          "output_type": "stream",
          "name": "stdout",
          "text": [
            "0      1\n",
            "1      1\n",
            "2      1\n",
            "3      1\n",
            "4      1\n",
            "      ..\n",
            "298    0\n",
            "299    0\n",
            "300    0\n",
            "301    0\n",
            "302    0\n",
            "Name: target, Length: 303, dtype: int64\n"
          ]
        },
        {
          "output_type": "execute_result",
          "data": {
            "text/plain": [
              "'from sklearn.preprocessing import MinMaxScaler\\nscaler = MinMaxScaler(feature_range = (0,1))\\nX1_norm=scaler.fit_transform(X1)\\nprint(X1_norm)'"
            ],
            "application/vnd.google.colaboratory.intrinsic+json": {
              "type": "string"
            }
          },
          "metadata": {},
          "execution_count": 52
        }
      ]
    },
    {
      "cell_type": "code",
      "source": [
        "from sklearn.preprocessing import MinMaxScaler\n",
        "scaler=MinMaxScaler(feature_range=(0,1))\n",
        "X=scaler.fit_transform(X)"
      ],
      "metadata": {
        "id": "DfNFIgEztxGG"
      },
      "execution_count": 53,
      "outputs": []
    },
    {
      "cell_type": "code",
      "source": [
        "from sklearn.model_selection import train_test_split\n",
        "X_train,X_test,Y_train,Y_test=train_test_split(x,y,test_size=0.3)\n",
        "print(x)"
      ],
      "metadata": {
        "id": "Bct2xGIn1JTF",
        "colab": {
          "base_uri": "https://localhost:8080/"
        },
        "outputId": "0abed55b-0a91-456b-f58b-beaf6b68bef8"
      },
      "execution_count": 54,
      "outputs": [
        {
          "output_type": "stream",
          "name": "stdout",
          "text": [
            "[[0.70833333 1.         1.         ... 0.         0.         0.33333333]\n",
            " [0.16666667 1.         0.66666667 ... 0.         0.         0.66666667]\n",
            " [0.25       0.         0.33333333 ... 1.         0.         0.66666667]\n",
            " ...\n",
            " [0.8125     1.         0.         ... 0.5        0.5        1.        ]\n",
            " [0.58333333 1.         0.         ... 0.5        0.25       1.        ]\n",
            " [0.58333333 0.         0.33333333 ... 0.5        0.25       0.66666667]]\n"
          ]
        }
      ]
    },
    {
      "cell_type": "code",
      "source": [
        "print(X_train)\n",
        "print(X_test)\n",
        "print(Y_train)\n",
        "print(Y_test)"
      ],
      "metadata": {
        "colab": {
          "base_uri": "https://localhost:8080/"
        },
        "id": "mltZthGTZY9N",
        "outputId": "6c0e09ad-4de7-4adb-b3e4-75166767c6aa"
      },
      "execution_count": 55,
      "outputs": [
        {
          "output_type": "stream",
          "name": "stdout",
          "text": [
            "[[0.6875     0.         0.         ... 0.5        0.75       0.66666667]\n",
            " [0.64583333 0.         1.         ... 1.         0.         0.66666667]\n",
            " [0.5625     1.         0.         ... 0.5        0.25       0.66666667]\n",
            " ...\n",
            " [0.75       0.         0.66666667 ... 1.         0.25       0.66666667]\n",
            " [0.25       1.         0.33333333 ... 1.         0.         0.66666667]\n",
            " [0.625      1.         0.         ... 0.5        0.5        0.33333333]]\n",
            "[[0.72916667 1.         0.         ... 0.         0.25       0.66666667]\n",
            " [0.625      1.         0.33333333 ... 1.         0.         0.66666667]\n",
            " [0.79166667 0.         0.         ... 1.         0.5        0.66666667]\n",
            " ...\n",
            " [0.77083333 0.         0.         ... 0.5        0.5        1.        ]\n",
            " [0.27083333 1.         0.         ... 1.         0.         0.66666667]\n",
            " [0.52083333 1.         0.33333333 ... 1.         0.         1.        ]]\n",
            "252    0\n",
            "147    1\n",
            "214    0\n",
            "55     1\n",
            "59     1\n",
            "      ..\n",
            "149    1\n",
            "251    0\n",
            "28     1\n",
            "133    1\n",
            "297    0\n",
            "Name: target, Length: 212, dtype: int64\n",
            "233    0\n",
            "77     1\n",
            "143    1\n",
            "191    0\n",
            "202    0\n",
            "      ..\n",
            "122    1\n",
            "278    0\n",
            "260    0\n",
            "22     1\n",
            "61     1\n",
            "Name: target, Length: 91, dtype: int64\n"
          ]
        }
      ]
    },
    {
      "cell_type": "code",
      "source": [
        "import numpy as np\n",
        "\n",
        "X1=X_train[0]\n",
        "X2=X_train[1]\n",
        "X3=X_train[2]\n",
        "X4=X_train[3]\n",
        "X5=X_train[4]\n",
        "X6=X_train[5]\n",
        "X7=X_train[6]\n",
        "X8=X_train[7]\n",
        "X9=X_train[8]\n",
        "X10=X_train[9]\n",
        "X11=X_train[10]\n",
        "X12=X_train[11]\n",
        "X13=X_train[12]\n",
        "Y_p=[]\n",
        "def perceptron(w1,w2,w3,w4,w5,w6,w7,w8,w9,w10,w11,w12,w13,b):\n",
        "  for i in range(len(X1)):\n",
        "    z=X1[i]*w1+X2[i]*w2+X3[i]*w3+X4[i]*w4+X5[i]*w5+X6[i]*w6+X7[i]*w7+X8[i]*w8+X9[i]*w9+X10[i]*w10+X11[i]*w11+X12[i]*w12+X13[i]*w13+b\n",
        "    s=1/1+np.exp(-z)\n",
        "    if (s>=0.5):\n",
        "      Y_p.append(1)\n",
        "    else:\n",
        "      Y_p.append(0)\n",
        "  return Y_p\n",
        "\n",
        "print(perceptron(1,2,3,1,2,3,1,2,3,1,2,3,1,10))"
      ],
      "metadata": {
        "colab": {
          "base_uri": "https://localhost:8080/"
        },
        "id": "8F3WNLSHZf3U",
        "outputId": "07f4d386-98d9-4e77-8022-b2e7708a7581"
      },
      "execution_count": 56,
      "outputs": [
        {
          "output_type": "stream",
          "name": "stdout",
          "text": [
            "[1, 1, 1, 1, 1, 1, 1, 1, 1, 1, 1, 1, 1]\n"
          ]
        }
      ]
    },
    {
      "cell_type": "code",
      "source": [],
      "metadata": {
        "id": "PFH0hVojaShP"
      },
      "execution_count": 56,
      "outputs": []
    }
  ]
}