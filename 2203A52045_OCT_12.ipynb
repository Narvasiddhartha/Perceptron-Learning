{
  "nbformat": 4,
  "nbformat_minor": 0,
  "metadata": {
    "colab": {
      "provenance": []
    },
    "kernelspec": {
      "name": "python3",
      "display_name": "Python 3"
    },
    "language_info": {
      "name": "python"
    }
  },
  "cells": [
    {
      "cell_type": "markdown",
      "source": [
        "1st Question:\n"
      ],
      "metadata": {
        "id": "xWDW2lSUNfim"
      }
    },
    {
      "cell_type": "code",
      "execution_count": 2,
      "metadata": {
        "colab": {
          "base_uri": "https://localhost:8080/"
        },
        "id": "SUvY7w8D5ieX",
        "outputId": "24eca2d4-8f7c-4d24-adcc-d8b3f828e603"
      },
      "outputs": [
        {
          "output_type": "stream",
          "name": "stdout",
          "text": [
            "     Alcohol  Malic_Acid   Ash  Ash_Alcanity  Magnesium  Total_Phenols  \\\n",
            "0      14.23        1.71  2.43          15.6        127           2.80   \n",
            "1      13.20        1.78  2.14          11.2        100           2.65   \n",
            "2      13.16        2.36  2.67          18.6        101           2.80   \n",
            "3      14.37        1.95  2.50          16.8        113           3.85   \n",
            "4      13.24        2.59  2.87          21.0        118           2.80   \n",
            "..       ...         ...   ...           ...        ...            ...   \n",
            "173    13.71        5.65  2.45          20.5         95           1.68   \n",
            "174    13.40        3.91  2.48          23.0        102           1.80   \n",
            "175    13.27        4.28  2.26          20.0        120           1.59   \n",
            "176    13.17        2.59  2.37          20.0        120           1.65   \n",
            "177    14.13        4.10  2.74          24.5         96           2.05   \n",
            "\n",
            "     Flavanoids  Nonflavanoid_Phenols  Proanthocyanins  Color_Intensity   Hue  \\\n",
            "0          3.06                  0.28             2.29             5.64  1.04   \n",
            "1          2.76                  0.26             1.28             4.38  1.05   \n",
            "2          3.24                  0.30             2.81             5.68  1.03   \n",
            "3          3.49                  0.24             2.18             7.80  0.86   \n",
            "4          2.69                  0.39             1.82             4.32  1.04   \n",
            "..          ...                   ...              ...              ...   ...   \n",
            "173        0.61                  0.52             1.06             7.70  0.64   \n",
            "174        0.75                  0.43             1.41             7.30  0.70   \n",
            "175        0.69                  0.43             1.35            10.20  0.59   \n",
            "176        0.68                  0.53             1.46             9.30  0.60   \n",
            "177        0.76                  0.56             1.35             9.20  0.61   \n",
            "\n",
            "     OD280  Proline  Customer_Segment  \n",
            "0     3.92     1065                 1  \n",
            "1     3.40     1050                 1  \n",
            "2     3.17     1185                 1  \n",
            "3     3.45     1480                 1  \n",
            "4     2.93      735                 1  \n",
            "..     ...      ...               ...  \n",
            "173   1.74      740                 3  \n",
            "174   1.56      750                 3  \n",
            "175   1.56      835                 3  \n",
            "176   1.62      840                 3  \n",
            "177   1.60      560                 3  \n",
            "\n",
            "[178 rows x 14 columns]\n"
          ]
        }
      ],
      "source": [
        "import numpy as np\n",
        "import pandas as pd\n",
        "a=pd.read_csv('/content/drive/MyDrive/Colab Notebooks/Wine.csv')\n",
        "print(a)"
      ]
    },
    {
      "cell_type": "code",
      "source": [
        "\n",
        "y=a['Customer_Segment']\n",
        "print(y)\n",
        "\n",
        "x=a.drop('Customer_Segment',axis=1)\n",
        "print(x)"
      ],
      "metadata": {
        "colab": {
          "base_uri": "https://localhost:8080/"
        },
        "id": "2P5kAOeY8iEg",
        "outputId": "d6c74b38-27d2-4f0b-d8b8-1ebd29a0928c"
      },
      "execution_count": 4,
      "outputs": [
        {
          "output_type": "stream",
          "name": "stdout",
          "text": [
            "0      1\n",
            "1      1\n",
            "2      1\n",
            "3      1\n",
            "4      1\n",
            "      ..\n",
            "173    3\n",
            "174    3\n",
            "175    3\n",
            "176    3\n",
            "177    3\n",
            "Name: Customer_Segment, Length: 178, dtype: int64\n",
            "     Alcohol  Malic_Acid   Ash  Ash_Alcanity  Magnesium  Total_Phenols  \\\n",
            "0      14.23        1.71  2.43          15.6        127           2.80   \n",
            "1      13.20        1.78  2.14          11.2        100           2.65   \n",
            "2      13.16        2.36  2.67          18.6        101           2.80   \n",
            "3      14.37        1.95  2.50          16.8        113           3.85   \n",
            "4      13.24        2.59  2.87          21.0        118           2.80   \n",
            "..       ...         ...   ...           ...        ...            ...   \n",
            "173    13.71        5.65  2.45          20.5         95           1.68   \n",
            "174    13.40        3.91  2.48          23.0        102           1.80   \n",
            "175    13.27        4.28  2.26          20.0        120           1.59   \n",
            "176    13.17        2.59  2.37          20.0        120           1.65   \n",
            "177    14.13        4.10  2.74          24.5         96           2.05   \n",
            "\n",
            "     Flavanoids  Nonflavanoid_Phenols  Proanthocyanins  Color_Intensity   Hue  \\\n",
            "0          3.06                  0.28             2.29             5.64  1.04   \n",
            "1          2.76                  0.26             1.28             4.38  1.05   \n",
            "2          3.24                  0.30             2.81             5.68  1.03   \n",
            "3          3.49                  0.24             2.18             7.80  0.86   \n",
            "4          2.69                  0.39             1.82             4.32  1.04   \n",
            "..          ...                   ...              ...              ...   ...   \n",
            "173        0.61                  0.52             1.06             7.70  0.64   \n",
            "174        0.75                  0.43             1.41             7.30  0.70   \n",
            "175        0.69                  0.43             1.35            10.20  0.59   \n",
            "176        0.68                  0.53             1.46             9.30  0.60   \n",
            "177        0.76                  0.56             1.35             9.20  0.61   \n",
            "\n",
            "     OD280  Proline  \n",
            "0     3.92     1065  \n",
            "1     3.40     1050  \n",
            "2     3.17     1185  \n",
            "3     3.45     1480  \n",
            "4     2.93      735  \n",
            "..     ...      ...  \n",
            "173   1.74      740  \n",
            "174   1.56      750  \n",
            "175   1.56      835  \n",
            "176   1.62      840  \n",
            "177   1.60      560  \n",
            "\n",
            "[178 rows x 13 columns]\n"
          ]
        }
      ]
    },
    {
      "cell_type": "code",
      "source": [
        "from sklearn.model_selection import train_test_split\n",
        "from sklearn.svm import SVC\n",
        "from sklearn.decomposition import PCA\n",
        "from sklearn.metrics import accuracy_score\n",
        "\n",
        "x_train, x_test, y_train, y_test = train_test_split(x, y, test_size=0.2, random_state=42)\n",
        "\n",
        "svm_original = SVC()\n",
        "svm_original.fit(x_train, y_train)\n",
        "\n",
        "y_pred_original = svm_original.predict(x_test)\n",
        "\n",
        "accuracy_original = accuracy_score(y_test, y_pred_original)\n",
        "\n",
        "pca = PCA(n_components=3)\n",
        "x_pca = pca.fit_transform(x)\n",
        "\n",
        "x_train_pca, x_test_pca, y_train_pca, y_test_pca = train_test_split(x_pca, y, test_size=0.2, random_state=42)\n",
        "\n",
        "svm_pca = SVC()\n",
        "svm_pca.fit(x_train_pca, y_train_pca)\n",
        "\n",
        "y_pred_pca = svm_pca.predict(x_test_pca)\n",
        "\n",
        "accuracy_pca = accuracy_score(y_test_pca, y_pred_pca)\n",
        "\n",
        "#print(\"Accuracy before PCA:\", accuracy_original)\n",
        "#print(\"Accuracy after PCA:\", accuracy_pca)\n",
        "\n",
        "print(\"Accuracy before PCA: {:.2f}%\".format(accuracy_original))\n",
        "print(\"Accuracy after PCA: {:.2f}%\".format(accuracy_pca))\n"
      ],
      "metadata": {
        "colab": {
          "base_uri": "https://localhost:8080/"
        },
        "id": "myVADMXvL7id",
        "outputId": "d39ff992-9203-4319-b8c6-9e3c07a7cfab"
      },
      "execution_count": 9,
      "outputs": [
        {
          "output_type": "stream",
          "name": "stdout",
          "text": [
            "Accuracy before PCA: 0.81%\n",
            "Accuracy after PCA: 0.78%\n"
          ]
        }
      ]
    },
    {
      "cell_type": "markdown",
      "source": [
        "2nd Question:"
      ],
      "metadata": {
        "id": "8m23bKrxNply"
      }
    },
    {
      "cell_type": "code",
      "source": [
        "import numpy as np\n",
        "import pandas as pd\n",
        "data=pd.read_csv('/content/drive/MyDrive/Colab Notebooks/breast_cancer_survival.csv')\n",
        "print(data)"
      ],
      "metadata": {
        "colab": {
          "base_uri": "https://localhost:8080/"
        },
        "id": "XOUTPEWaNsEI",
        "outputId": "3f4d1bb5-312e-43fd-c3b1-194f0eb306fb"
      },
      "execution_count": 12,
      "outputs": [
        {
          "output_type": "stream",
          "name": "stdout",
          "text": [
            "     Age  Gender  Protein1  Protein2  Protein3  Protein4 Tumour_Stage  \\\n",
            "0     42  FEMALE  0.952560   2.15000  0.007972 -0.048340           II   \n",
            "1     54  FEMALE  0.000000   1.38020 -0.498030 -0.507320           II   \n",
            "2     63  FEMALE -0.523030   1.76400 -0.370190  0.010815           II   \n",
            "3     78  FEMALE -0.876180   0.12943 -0.370380  0.132190            I   \n",
            "4     42  FEMALE  0.226110   1.74910 -0.543970 -0.390210           II   \n",
            "..   ...     ...       ...       ...       ...       ...          ...   \n",
            "329   59  FEMALE  0.024598   1.40050  0.024751  0.280320           II   \n",
            "330   41  FEMALE  0.100120  -0.46547  0.472370 -0.523870            I   \n",
            "331   54  FEMALE  0.753820   1.64250 -0.332850  0.857860           II   \n",
            "332   74  FEMALE  0.972510   1.42680 -0.366570 -0.107820           II   \n",
            "333   66  FEMALE  0.286380   1.39980  0.318830  0.836050           II   \n",
            "\n",
            "                          Histology ER status PR status HER2 status  \\\n",
            "0     Infiltrating Ductal Carcinoma  Positive  Positive    Negative   \n",
            "1     Infiltrating Ductal Carcinoma  Positive  Positive    Negative   \n",
            "2     Infiltrating Ductal Carcinoma  Positive  Positive    Negative   \n",
            "3     Infiltrating Ductal Carcinoma  Positive  Positive    Negative   \n",
            "4     Infiltrating Ductal Carcinoma  Positive  Positive    Positive   \n",
            "..                              ...       ...       ...         ...   \n",
            "329   Infiltrating Ductal Carcinoma  Positive  Positive    Positive   \n",
            "330   Infiltrating Ductal Carcinoma  Positive  Positive    Positive   \n",
            "331   Infiltrating Ductal Carcinoma  Positive  Positive    Negative   \n",
            "332  Infiltrating Lobular Carcinoma  Positive  Positive    Negative   \n",
            "333   Infiltrating Ductal Carcinoma  Positive  Positive    Negative   \n",
            "\n",
            "                    Surgery_type Date_of_Surgery Date_of_Last_Visit  \\\n",
            "0                          Other       20-May-18          26-Aug-18   \n",
            "1                          Other       26-Apr-18          25-Jan-19   \n",
            "2                     Lumpectomy       24-Aug-18          08-Apr-20   \n",
            "3                          Other       16-Nov-18          28-Jul-20   \n",
            "4                     Lumpectomy       12-Dec-18          05-Jan-19   \n",
            "..                           ...             ...                ...   \n",
            "329                   Lumpectomy       15-Jan-19          27-Mar-20   \n",
            "330  Modified Radical Mastectomy       25-Jul-18          23-Apr-19   \n",
            "331            Simple Mastectomy       26-Mar-19          11-Oct-19   \n",
            "332                   Lumpectomy       26-Nov-18          05-Dec-18   \n",
            "333  Modified Radical Mastectomy       04-Feb-19          10-Aug-19   \n",
            "\n",
            "    Patient_Status  \n",
            "0            Alive  \n",
            "1             Dead  \n",
            "2            Alive  \n",
            "3            Alive  \n",
            "4            Alive  \n",
            "..             ...  \n",
            "329          Alive  \n",
            "330          Alive  \n",
            "331           Dead  \n",
            "332          Alive  \n",
            "333           Dead  \n",
            "\n",
            "[334 rows x 15 columns]\n"
          ]
        }
      ]
    },
    {
      "cell_type": "code",
      "source": [
        "data.Patient_Status[data.Patient_Status == 'Alive'] = 1\n",
        "data.Patient_Status[data.Patient_Status == 'Dead'] = 0\n",
        "\n",
        "print(data)"
      ],
      "metadata": {
        "colab": {
          "base_uri": "https://localhost:8080/"
        },
        "id": "1ypWUeXbOC2q",
        "outputId": "962f6ca7-b9aa-4dd5-a6b6-1138276ae104"
      },
      "execution_count": 13,
      "outputs": [
        {
          "output_type": "stream",
          "name": "stdout",
          "text": [
            "     Age  Gender  Protein1  Protein2  Protein3  Protein4 Tumour_Stage  \\\n",
            "0     42  FEMALE  0.952560   2.15000  0.007972 -0.048340           II   \n",
            "1     54  FEMALE  0.000000   1.38020 -0.498030 -0.507320           II   \n",
            "2     63  FEMALE -0.523030   1.76400 -0.370190  0.010815           II   \n",
            "3     78  FEMALE -0.876180   0.12943 -0.370380  0.132190            I   \n",
            "4     42  FEMALE  0.226110   1.74910 -0.543970 -0.390210           II   \n",
            "..   ...     ...       ...       ...       ...       ...          ...   \n",
            "329   59  FEMALE  0.024598   1.40050  0.024751  0.280320           II   \n",
            "330   41  FEMALE  0.100120  -0.46547  0.472370 -0.523870            I   \n",
            "331   54  FEMALE  0.753820   1.64250 -0.332850  0.857860           II   \n",
            "332   74  FEMALE  0.972510   1.42680 -0.366570 -0.107820           II   \n",
            "333   66  FEMALE  0.286380   1.39980  0.318830  0.836050           II   \n",
            "\n",
            "                          Histology ER status PR status HER2 status  \\\n",
            "0     Infiltrating Ductal Carcinoma  Positive  Positive    Negative   \n",
            "1     Infiltrating Ductal Carcinoma  Positive  Positive    Negative   \n",
            "2     Infiltrating Ductal Carcinoma  Positive  Positive    Negative   \n",
            "3     Infiltrating Ductal Carcinoma  Positive  Positive    Negative   \n",
            "4     Infiltrating Ductal Carcinoma  Positive  Positive    Positive   \n",
            "..                              ...       ...       ...         ...   \n",
            "329   Infiltrating Ductal Carcinoma  Positive  Positive    Positive   \n",
            "330   Infiltrating Ductal Carcinoma  Positive  Positive    Positive   \n",
            "331   Infiltrating Ductal Carcinoma  Positive  Positive    Negative   \n",
            "332  Infiltrating Lobular Carcinoma  Positive  Positive    Negative   \n",
            "333   Infiltrating Ductal Carcinoma  Positive  Positive    Negative   \n",
            "\n",
            "                    Surgery_type Date_of_Surgery Date_of_Last_Visit  \\\n",
            "0                          Other       20-May-18          26-Aug-18   \n",
            "1                          Other       26-Apr-18          25-Jan-19   \n",
            "2                     Lumpectomy       24-Aug-18          08-Apr-20   \n",
            "3                          Other       16-Nov-18          28-Jul-20   \n",
            "4                     Lumpectomy       12-Dec-18          05-Jan-19   \n",
            "..                           ...             ...                ...   \n",
            "329                   Lumpectomy       15-Jan-19          27-Mar-20   \n",
            "330  Modified Radical Mastectomy       25-Jul-18          23-Apr-19   \n",
            "331            Simple Mastectomy       26-Mar-19          11-Oct-19   \n",
            "332                   Lumpectomy       26-Nov-18          05-Dec-18   \n",
            "333  Modified Radical Mastectomy       04-Feb-19          10-Aug-19   \n",
            "\n",
            "    Patient_Status  \n",
            "0                1  \n",
            "1                0  \n",
            "2                1  \n",
            "3                1  \n",
            "4                1  \n",
            "..             ...  \n",
            "329              1  \n",
            "330              1  \n",
            "331              0  \n",
            "332              1  \n",
            "333              0  \n",
            "\n",
            "[334 rows x 15 columns]\n"
          ]
        },
        {
          "output_type": "stream",
          "name": "stderr",
          "text": [
            "<ipython-input-13-c1b2d368b48f>:1: SettingWithCopyWarning: \n",
            "A value is trying to be set on a copy of a slice from a DataFrame\n",
            "\n",
            "See the caveats in the documentation: https://pandas.pydata.org/pandas-docs/stable/user_guide/indexing.html#returning-a-view-versus-a-copy\n",
            "  data.Patient_Status[data.Patient_Status == 'Alive'] = 1\n",
            "<ipython-input-13-c1b2d368b48f>:2: SettingWithCopyWarning: \n",
            "A value is trying to be set on a copy of a slice from a DataFrame\n",
            "\n",
            "See the caveats in the documentation: https://pandas.pydata.org/pandas-docs/stable/user_guide/indexing.html#returning-a-view-versus-a-copy\n",
            "  data.Patient_Status[data.Patient_Status == 'Dead'] = 0\n"
          ]
        }
      ]
    },
    {
      "cell_type": "code",
      "source": [
        "from sklearn.model_selection import train_test_split\n",
        "column_name_mapping = {'ER status': 'ERstatus', 'PR status': 'PRstatus', 'HER2 status': 'HER2status'}\n",
        "\n",
        "\n",
        "data.rename(columns=column_name_mapping, inplace=True)\n",
        "data.HER2status[data.HER2status== 'Positive'] = 1\n",
        "data.HER2status[data.HER2status== 'Negative'] = 0\n",
        "data.Tumour_Stage[data.Tumour_Stage == 'II'] = 2\n",
        "data.Tumour_Stage[data.Tumour_Stage == 'I'] = 1\n",
        "data.Tumour_Stage[data.Tumour_Stage == 'III'] = 3\n",
        "data.Surgery_type[data.Surgery_type == 'Other'] = 1\n",
        "data.Surgery_type[data.Surgery_type == 'Lumpectomy'] = 2\n",
        "data.Surgery_type[data.Surgery_type == 'Modified Radical Mastectomy'] = 3\n",
        "data.Surgery_type[data.Surgery_type == 'Simple Mastectomy'] = 4\n",
        "data = data.dropna()\n",
        "y = data['Patient_Status']\n",
        "X = data.drop(columns = ['Date_of_Surgery','Date_of_Last_Visit','Histology','Gender','ERstatus','PRstatus'])\n",
        "print(data)\n",
        "print(X)"
      ],
      "metadata": {
        "colab": {
          "base_uri": "https://localhost:8080/"
        },
        "id": "UzMfX2IdOheI",
        "outputId": "38315731-b782-4de4-93c6-5b958482846a"
      },
      "execution_count": 15,
      "outputs": [
        {
          "output_type": "stream",
          "name": "stdout",
          "text": [
            "     Age  Gender  Protein1  Protein2  Protein3  Protein4 Tumour_Stage  \\\n",
            "0     42  FEMALE  0.952560   2.15000  0.007972 -0.048340            2   \n",
            "1     54  FEMALE  0.000000   1.38020 -0.498030 -0.507320            2   \n",
            "2     63  FEMALE -0.523030   1.76400 -0.370190  0.010815            2   \n",
            "3     78  FEMALE -0.876180   0.12943 -0.370380  0.132190            1   \n",
            "4     42  FEMALE  0.226110   1.74910 -0.543970 -0.390210            2   \n",
            "..   ...     ...       ...       ...       ...       ...          ...   \n",
            "329   59  FEMALE  0.024598   1.40050  0.024751  0.280320            2   \n",
            "330   41  FEMALE  0.100120  -0.46547  0.472370 -0.523870            1   \n",
            "331   54  FEMALE  0.753820   1.64250 -0.332850  0.857860            2   \n",
            "332   74  FEMALE  0.972510   1.42680 -0.366570 -0.107820            2   \n",
            "333   66  FEMALE  0.286380   1.39980  0.318830  0.836050            2   \n",
            "\n",
            "                          Histology  ERstatus  PRstatus HER2status  \\\n",
            "0     Infiltrating Ductal Carcinoma  Positive  Positive          0   \n",
            "1     Infiltrating Ductal Carcinoma  Positive  Positive          0   \n",
            "2     Infiltrating Ductal Carcinoma  Positive  Positive          0   \n",
            "3     Infiltrating Ductal Carcinoma  Positive  Positive          0   \n",
            "4     Infiltrating Ductal Carcinoma  Positive  Positive          1   \n",
            "..                              ...       ...       ...        ...   \n",
            "329   Infiltrating Ductal Carcinoma  Positive  Positive          1   \n",
            "330   Infiltrating Ductal Carcinoma  Positive  Positive          1   \n",
            "331   Infiltrating Ductal Carcinoma  Positive  Positive          0   \n",
            "332  Infiltrating Lobular Carcinoma  Positive  Positive          0   \n",
            "333   Infiltrating Ductal Carcinoma  Positive  Positive          0   \n",
            "\n",
            "    Surgery_type Date_of_Surgery Date_of_Last_Visit Patient_Status  \n",
            "0              1       20-May-18          26-Aug-18              1  \n",
            "1              1       26-Apr-18          25-Jan-19              0  \n",
            "2              2       24-Aug-18          08-Apr-20              1  \n",
            "3              1       16-Nov-18          28-Jul-20              1  \n",
            "4              2       12-Dec-18          05-Jan-19              1  \n",
            "..           ...             ...                ...            ...  \n",
            "329            2       15-Jan-19          27-Mar-20              1  \n",
            "330            3       25-Jul-18          23-Apr-19              1  \n",
            "331            4       26-Mar-19          11-Oct-19              0  \n",
            "332            2       26-Nov-18          05-Dec-18              1  \n",
            "333            3       04-Feb-19          10-Aug-19              0  \n",
            "\n",
            "[317 rows x 15 columns]\n",
            "     Age  Protein1  Protein2  Protein3  Protein4 Tumour_Stage HER2status  \\\n",
            "0     42  0.952560   2.15000  0.007972 -0.048340            2          0   \n",
            "1     54  0.000000   1.38020 -0.498030 -0.507320            2          0   \n",
            "2     63 -0.523030   1.76400 -0.370190  0.010815            2          0   \n",
            "3     78 -0.876180   0.12943 -0.370380  0.132190            1          0   \n",
            "4     42  0.226110   1.74910 -0.543970 -0.390210            2          1   \n",
            "..   ...       ...       ...       ...       ...          ...        ...   \n",
            "329   59  0.024598   1.40050  0.024751  0.280320            2          1   \n",
            "330   41  0.100120  -0.46547  0.472370 -0.523870            1          1   \n",
            "331   54  0.753820   1.64250 -0.332850  0.857860            2          0   \n",
            "332   74  0.972510   1.42680 -0.366570 -0.107820            2          0   \n",
            "333   66  0.286380   1.39980  0.318830  0.836050            2          0   \n",
            "\n",
            "    Surgery_type Patient_Status  \n",
            "0              1              1  \n",
            "1              1              0  \n",
            "2              2              1  \n",
            "3              1              1  \n",
            "4              2              1  \n",
            "..           ...            ...  \n",
            "329            2              1  \n",
            "330            3              1  \n",
            "331            4              0  \n",
            "332            2              1  \n",
            "333            3              0  \n",
            "\n",
            "[317 rows x 9 columns]\n"
          ]
        },
        {
          "output_type": "stream",
          "name": "stderr",
          "text": [
            "<ipython-input-15-a8c750e21da8>:6: SettingWithCopyWarning: \n",
            "A value is trying to be set on a copy of a slice from a DataFrame\n",
            "\n",
            "See the caveats in the documentation: https://pandas.pydata.org/pandas-docs/stable/user_guide/indexing.html#returning-a-view-versus-a-copy\n",
            "  data.HER2status[data.HER2status== 'Positive'] = 1\n",
            "<ipython-input-15-a8c750e21da8>:7: SettingWithCopyWarning: \n",
            "A value is trying to be set on a copy of a slice from a DataFrame\n",
            "\n",
            "See the caveats in the documentation: https://pandas.pydata.org/pandas-docs/stable/user_guide/indexing.html#returning-a-view-versus-a-copy\n",
            "  data.HER2status[data.HER2status== 'Negative'] = 0\n",
            "<ipython-input-15-a8c750e21da8>:8: SettingWithCopyWarning: \n",
            "A value is trying to be set on a copy of a slice from a DataFrame\n",
            "\n",
            "See the caveats in the documentation: https://pandas.pydata.org/pandas-docs/stable/user_guide/indexing.html#returning-a-view-versus-a-copy\n",
            "  data.Tumour_Stage[data.Tumour_Stage == 'II'] = 2\n",
            "<ipython-input-15-a8c750e21da8>:9: SettingWithCopyWarning: \n",
            "A value is trying to be set on a copy of a slice from a DataFrame\n",
            "\n",
            "See the caveats in the documentation: https://pandas.pydata.org/pandas-docs/stable/user_guide/indexing.html#returning-a-view-versus-a-copy\n",
            "  data.Tumour_Stage[data.Tumour_Stage == 'I'] = 1\n",
            "<ipython-input-15-a8c750e21da8>:10: SettingWithCopyWarning: \n",
            "A value is trying to be set on a copy of a slice from a DataFrame\n",
            "\n",
            "See the caveats in the documentation: https://pandas.pydata.org/pandas-docs/stable/user_guide/indexing.html#returning-a-view-versus-a-copy\n",
            "  data.Tumour_Stage[data.Tumour_Stage == 'III'] = 3\n",
            "<ipython-input-15-a8c750e21da8>:11: SettingWithCopyWarning: \n",
            "A value is trying to be set on a copy of a slice from a DataFrame\n",
            "\n",
            "See the caveats in the documentation: https://pandas.pydata.org/pandas-docs/stable/user_guide/indexing.html#returning-a-view-versus-a-copy\n",
            "  data.Surgery_type[data.Surgery_type == 'Other'] = 1\n",
            "<ipython-input-15-a8c750e21da8>:12: SettingWithCopyWarning: \n",
            "A value is trying to be set on a copy of a slice from a DataFrame\n",
            "\n",
            "See the caveats in the documentation: https://pandas.pydata.org/pandas-docs/stable/user_guide/indexing.html#returning-a-view-versus-a-copy\n",
            "  data.Surgery_type[data.Surgery_type == 'Lumpectomy'] = 2\n",
            "<ipython-input-15-a8c750e21da8>:13: SettingWithCopyWarning: \n",
            "A value is trying to be set on a copy of a slice from a DataFrame\n",
            "\n",
            "See the caveats in the documentation: https://pandas.pydata.org/pandas-docs/stable/user_guide/indexing.html#returning-a-view-versus-a-copy\n",
            "  data.Surgery_type[data.Surgery_type == 'Modified Radical Mastectomy'] = 3\n",
            "<ipython-input-15-a8c750e21da8>:14: SettingWithCopyWarning: \n",
            "A value is trying to be set on a copy of a slice from a DataFrame\n",
            "\n",
            "See the caveats in the documentation: https://pandas.pydata.org/pandas-docs/stable/user_guide/indexing.html#returning-a-view-versus-a-copy\n",
            "  data.Surgery_type[data.Surgery_type == 'Simple Mastectomy'] = 4\n"
          ]
        }
      ]
    },
    {
      "cell_type": "code",
      "source": [
        "from sklearn.model_selection import train_test_split\n",
        "from sklearn.preprocessing import StandardScaler\n",
        "from sklearn.linear_model import LogisticRegression\n",
        "from sklearn.metrics import accuracy_score, precision_score, recall_score, f1_score, roc_auc_score\n",
        "\n",
        "\n",
        "X_train, X_test, y_train, y_test = train_test_split(X, y, test_size=0.2, random_state=42)\n",
        "\n",
        "\n",
        "scaler = StandardScaler()\n",
        "X_train_scaled = scaler.fit_transform(X_train)\n",
        "X_test_scaled = scaler.transform(X_test)\n",
        "\n",
        "y_train = y_train.astype(int)\n",
        "y_test = y_test.astype(int)\n",
        "\n",
        "\n",
        "model = LogisticRegression()\n",
        "model.fit(X_train_scaled, y_train)\n",
        "\n",
        "\n",
        "y_pred = model.predict(X_test_scaled)\n",
        "print(y_pred)\n",
        "# Evaluate the model\n",
        "accuracy = accuracy_score(y_test, y_pred)\n",
        "print(accuracy)"
      ],
      "metadata": {
        "colab": {
          "base_uri": "https://localhost:8080/"
        },
        "id": "NsAEmb4LPT-p",
        "outputId": "ee3c9920-648a-4d0d-bb41-a6cc4807fda4"
      },
      "execution_count": 16,
      "outputs": [
        {
          "output_type": "stream",
          "name": "stdout",
          "text": [
            "[1 0 0 1 1 1 1 1 1 1 0 1 1 1 1 1 1 1 1 1 0 1 0 0 0 1 1 1 1 0 1 1 1 1 0 1 0\n",
            " 1 1 1 1 1 1 1 1 1 1 1 1 1 1 0 1 1 1 1 1 1 0 1 1 1 0 1]\n",
            "1.0\n"
          ]
        }
      ]
    },
    {
      "cell_type": "code",
      "source": [
        "from sklearn.model_selection import train_test_split\n",
        "from sklearn.svm import SVC\n",
        "from sklearn.metrics import accuracy_score\n",
        "\n",
        "\n",
        "svm_classifier = SVC()\n",
        "svm_classifier.fit(X_train_scaled, y_train)\n",
        "\n",
        "y_pred = svm_classifier.predict(X_test_scaled)\n",
        "accuracy_before_pca = accuracy_score(y_test, y_pred)\n",
        "print(accuracy_before_pca)"
      ],
      "metadata": {
        "colab": {
          "base_uri": "https://localhost:8080/"
        },
        "id": "nxDZdKBqPb0d",
        "outputId": "42e44829-27e6-4c03-9283-8f72479fb1eb"
      },
      "execution_count": 17,
      "outputs": [
        {
          "output_type": "stream",
          "name": "stdout",
          "text": [
            "1.0\n"
          ]
        }
      ]
    },
    {
      "cell_type": "code",
      "source": [
        "from sklearn.model_selection import RepeatedKFold\n",
        "from sklearn.linear_model import LogisticRegression\n",
        "from sklearn.svm import SVC\n",
        "from sklearn.datasets import make_classification\n",
        "from sklearn.model_selection import cross_val_score\n",
        "\n",
        "X, y = make_classification(n_samples=50, n_features=10, n_informative=5, n_redundant=5, random_state=1)\n",
        "\n",
        "n_folds = 5\n",
        "n_repeats = 10\n",
        "\n",
        "lr_model = LogisticRegression()\n",
        "svm_model = SVC()\n",
        "\n",
        "cv = RepeatedKFold(n_splits=n_folds, n_repeats=n_repeats, random_state=1)\n",
        "\n",
        "lr_scores = cross_val_score(lr_model, X, y, scoring='accuracy', cv=cv, n_jobs=-1)\n",
        "svm_scores = cross_val_score(svm_model, X, y, scoring='accuracy', cv=cv, n_jobs=-1)\n",
        "\n",
        "lr_mean, lr_std = np.mean(lr_scores), np.std(lr_scores)\n",
        "svm_mean, svm_std = np.mean(svm_scores), np.std(svm_scores)\n",
        "\n",
        "print('Logistic Regression: Accuracy=%.3f (%.3f)' % (lr_mean, lr_std))\n",
        "print('SVM: Accuracy=%.3f (%.3f)' % (svm_mean, svm_std))"
      ],
      "metadata": {
        "colab": {
          "base_uri": "https://localhost:8080/"
        },
        "id": "uuJSDvTePn9G",
        "outputId": "859e660e-198a-4c7c-8ecc-fbfc6829e787"
      },
      "execution_count": 18,
      "outputs": [
        {
          "output_type": "stream",
          "name": "stdout",
          "text": [
            "Logistic Regression: Accuracy=0.636 (0.152)\n",
            "SVM: Accuracy=0.792 (0.126)\n"
          ]
        }
      ]
    },
    {
      "cell_type": "code",
      "source": [],
      "metadata": {
        "id": "F7kVFis-Pp3e"
      },
      "execution_count": null,
      "outputs": []
    }
  ]
}